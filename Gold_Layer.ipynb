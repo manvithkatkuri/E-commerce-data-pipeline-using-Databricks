{
 "cells": [
  {
   "cell_type": "code",
   "execution_count": 0,
   "metadata": {
    "application/vnd.databricks.v1+cell": {
     "cellMetadata": {
      "byteLimit": 2048000,
      "rowLimit": 10000
     },
     "inputWidgets": {},
     "nuid": "90badfb8-649e-468b-829d-8663ce26111f",
     "showTitle": false,
     "tableResultSettingsMap": {},
     "title": ""
    }
   },
   "outputs": [],
   "source": [
    "from pyspark.sql import SparkSession\n",
    "from pyspark.sql.functions import *\n",
    "from pyspark.sql.types import *"
   ]
  },
  {
   "cell_type": "code",
   "execution_count": 0,
   "metadata": {
    "application/vnd.databricks.v1+cell": {
     "cellMetadata": {
      "byteLimit": 2048000,
      "rowLimit": 10000
     },
     "inputWidgets": {},
     "nuid": "73af3c5e-26af-413f-994d-d4f45ac7d39b",
     "showTitle": false,
     "tableResultSettingsMap": {},
     "title": ""
    }
   },
   "outputs": [],
   "source": [
    "spark = SparkSession.builder.appName(\"Ecom-DataPipeline\").getOrCreate()  "
   ]
  },
  {
   "cell_type": "code",
   "execution_count": 0,
   "metadata": {
    "application/vnd.databricks.v1+cell": {
     "cellMetadata": {
      "byteLimit": 2048000,
      "rowLimit": 10000
     },
     "inputWidgets": {},
     "nuid": "a3f90507-c6d7-4591-a8d0-3dbee4d28a29",
     "showTitle": false,
     "tableResultSettingsMap": {},
     "title": ""
    }
   },
   "outputs": [],
   "source": [
    "userDf=spark.read.format(\"delta\")\\\n",
    "    .load(\"/mnt/delta/tables/silver/user\")\n",
    "\n",
    "buyersDf=spark.read.format(\"delta\")\\\n",
    "    .load(\"/mnt/delta/tables/silver/buyers\")\n",
    "\n",
    "sellersDf=spark.read.format(\"delta\")\\\n",
    "    .load(\"/mnt/delta/tables/silver/seller\")\n",
    "\n",
    "countriesDf=spark.read.format(\"delta\")\\\n",
    "    .load(\"/mnt/delta/tables/silver/countries\")"
   ]
  },
  {
   "cell_type": "code",
   "execution_count": 0,
   "metadata": {
    "application/vnd.databricks.v1+cell": {
     "cellMetadata": {
      "byteLimit": 2048000,
      "rowLimit": 10000
     },
     "inputWidgets": {},
     "nuid": "cad7b041-dbf9-4980-b576-5f7fe75fb173",
     "showTitle": false,
     "tableResultSettingsMap": {},
     "title": ""
    }
   },
   "outputs": [
    {
     "output_type": "stream",
     "name": "stdout",
     "output_type": "stream",
     "text": [
      "root\n |-- country: string (nullable = true)\n |-- buyers: integer (nullable = true)\n |-- topbuyers: integer (nullable = true)\n |-- topbuyerratio: double (nullable = true)\n |-- femalebuyers: integer (nullable = true)\n |-- malebuyers: integer (nullable = true)\n |-- topfemalebuyers: integer (nullable = true)\n |-- topmalebuyers: integer (nullable = true)\n |-- femalebuyersratio: double (nullable = true)\n |-- topfemalebuyersratio: double (nullable = true)\n |-- boughtperwishlistratio: double (nullable = true)\n |-- boughtperlikeratio: double (nullable = true)\n |-- topboughtperwishlistratio: double (nullable = true)\n |-- topboughtperlikeratio: double (nullable = true)\n |-- totalproductsbought: integer (nullable = true)\n |-- totalproductswished: integer (nullable = true)\n |-- totalproductsliked: integer (nullable = true)\n |-- toptotalproductsbought: integer (nullable = true)\n |-- toptotalproductswished: integer (nullable = true)\n |-- toptotalproductsliked: integer (nullable = true)\n |-- meanproductsbought: double (nullable = true)\n |-- meanproductswished: double (nullable = true)\n |-- meanproductsliked: double (nullable = true)\n |-- topmeanproductsbought: double (nullable = true)\n |-- topmeanproductswished: double (nullable = true)\n |-- topmeanproductsliked: double (nullable = true)\n |-- meanofflinedays: double (nullable = true)\n |-- topmeanofflinedays: double (nullable = true)\n |-- meanfollowers: double (nullable = true)\n |-- meanfollowing: double (nullable = true)\n |-- topmeanfollowers: double (nullable = true)\n |-- topmeanfollowing: double (nullable = true)\n |-- buyerActivityRatio: double (nullable = true)\n |-- femaleBuyerRatio: double (nullable = true)\n |-- maleBuyerRatio: double (nullable = true)\n |-- wishlistConversionRate: double (nullable = true)\n |-- isHighEngagementCountry: integer (nullable = true)\n\n"
     ]
    }
   ],
   "source": [
    "buyersDf.printSchema()"
   ]
  },
  {
   "cell_type": "code",
   "execution_count": 0,
   "metadata": {
    "application/vnd.databricks.v1+cell": {
     "cellMetadata": {
      "byteLimit": 2048000,
      "rowLimit": 10000
     },
     "inputWidgets": {},
     "nuid": "aaa82d3d-27da-467f-81bb-230c57754926",
     "showTitle": false,
     "tableResultSettingsMap": {},
     "title": ""
    }
   },
   "outputs": [
    {
     "output_type": "stream",
     "name": "stdout",
     "output_type": "stream",
     "text": [
      "root\n |-- identifierHash: long (nullable = true)\n |-- type: string (nullable = true)\n |-- country: string (nullable = true)\n |-- language: string (nullable = true)\n |-- socialNbFollowers: integer (nullable = true)\n |-- socialNbFollows: integer (nullable = true)\n |-- socialProductsLiked: integer (nullable = true)\n |-- productsListed: integer (nullable = true)\n |-- productsSold: integer (nullable = true)\n |-- productsPassRate: double (nullable = true)\n |-- productsWished: integer (nullable = true)\n |-- productsBought: integer (nullable = true)\n |-- gender: string (nullable = true)\n |-- civilityGenderId: integer (nullable = true)\n |-- civilityTitle: string (nullable = true)\n |-- hasAnyApp: boolean (nullable = true)\n |-- hasAndroidApp: integer (nullable = true)\n |-- hasIosApp: integer (nullable = true)\n |-- hasProfilePicture: integer (nullable = true)\n |-- daysSinceLastLogin: integer (nullable = true)\n |-- seniority: integer (nullable = true)\n |-- seniorityAsMonths: double (nullable = true)\n |-- seniorityAsYears: double (nullable = true)\n |-- countryCode: string (nullable = true)\n |-- monthsSinceLastLogin: double (nullable = true)\n |-- hasAnyAppFlag: integer (nullable = true)\n |-- isActiveUser: integer (nullable = true)\n |-- seniorityCategory: string (nullable = true)\n |-- socialEngagementScore: double (nullable = true)\n\n"
     ]
    }
   ],
   "source": [
    "userDf.printSchema()"
   ]
  },
  {
   "cell_type": "code",
   "execution_count": 0,
   "metadata": {
    "application/vnd.databricks.v1+cell": {
     "cellMetadata": {
      "byteLimit": 2048000,
      "rowLimit": 10000
     },
     "inputWidgets": {},
     "nuid": "b71262d3-6842-4306-9221-9b087b36fb32",
     "showTitle": false,
     "tableResultSettingsMap": {},
     "title": ""
    }
   },
   "outputs": [
    {
     "output_type": "stream",
     "name": "stdout",
     "output_type": "stream",
     "text": [
      "root\n |-- country: string (nullable = true)\n |-- sellers: integer (nullable = true)\n |-- topsellers: integer (nullable = true)\n |-- topsellerratio: double (nullable = true)\n |-- femalesellersratio: double (nullable = true)\n |-- topfemalesellersratio: double (nullable = true)\n |-- femalesellers: integer (nullable = true)\n |-- malesellers: integer (nullable = true)\n |-- topfemalesellers: integer (nullable = true)\n |-- topmalesellers: integer (nullable = true)\n |-- countrysoldratio: double (nullable = true)\n |-- bestsoldratio: double (nullable = true)\n |-- toptotalproductssold: double (nullable = true)\n |-- totalproductssold: double (nullable = true)\n |-- toptotalproductslisted: double (nullable = true)\n |-- totalproductslisted: double (nullable = true)\n |-- topmeanproductssold: double (nullable = true)\n |-- topmeanproductslisted: double (nullable = true)\n |-- meanproductssold: double (nullable = true)\n |-- meanproductslisted: double (nullable = true)\n |-- meanofflinedays: double (nullable = true)\n |-- topmeanofflinedays: double (nullable = true)\n |-- meanfollowers: double (nullable = true)\n |-- meanfollowing: double (nullable = true)\n |-- topmeanfollowers: double (nullable = true)\n |-- topmeanfollowing: double (nullable = true)\n |-- femaleSellerRatio: double (nullable = true)\n |-- maleSellerRatio: double (nullable = true)\n |-- productSoldListRatio: double (nullable = true)\n |-- isAboveAverageSeller: integer (nullable = true)\n\n"
     ]
    }
   ],
   "source": [
    "countriesDf.printSchema()"
   ]
  },
  {
   "cell_type": "code",
   "execution_count": 0,
   "metadata": {
    "application/vnd.databricks.v1+cell": {
     "cellMetadata": {
      "byteLimit": 2048000,
      "rowLimit": 10000
     },
     "inputWidgets": {},
     "nuid": "daa581f5-431c-46c7-8107-b2b794eff474",
     "showTitle": false,
     "tableResultSettingsMap": {},
     "title": ""
    }
   },
   "outputs": [
    {
     "output_type": "stream",
     "name": "stdout",
     "output_type": "stream",
     "text": [
      "root\n |-- country: string (nullable = true)\n |-- sex: string (nullable = true)\n |-- nbsellers: integer (nullable = true)\n |-- meanproductssold: double (nullable = true)\n |-- meanproductslisted: double (nullable = true)\n |-- meansellerpassrate: double (nullable = true)\n |-- totalproductssold: integer (nullable = true)\n |-- totalproductslisted: integer (nullable = true)\n |-- meanproductsbought: double (nullable = true)\n |-- meanproductswished: double (nullable = true)\n |-- meanproductsliked: double (nullable = true)\n |-- totalbought: integer (nullable = true)\n |-- totalwished: integer (nullable = true)\n |-- totalproductsliked: integer (nullable = true)\n |-- meanfollowers: double (nullable = true)\n |-- meanfollows: double (nullable = true)\n |-- percentofappusers: double (nullable = true)\n |-- percentofiosusers: double (nullable = true)\n |-- meanseniority: double (nullable = true)\n |-- isTopPerformer: integer (nullable = true)\n |-- appUsageCategory: string (nullable = true)\n\n"
     ]
    }
   ],
   "source": [
    "sellersDf.printSchema()"
   ]
  },
  {
   "cell_type": "markdown",
   "metadata": {
    "application/vnd.databricks.v1+cell": {
     "cellMetadata": {},
     "inputWidgets": {},
     "nuid": "99751a97-8ff8-48c5-87d0-927a94434b05",
     "showTitle": false,
     "tableResultSettingsMap": {},
     "title": ""
    }
   },
   "source": [
    "### Creating One Big Table"
   ]
  },
  {
   "cell_type": "code",
   "execution_count": 0,
   "metadata": {
    "application/vnd.databricks.v1+cell": {
     "cellMetadata": {
      "byteLimit": 2048000,
      "rowLimit": 10000
     },
     "inputWidgets": {},
     "nuid": "4cb67eea-808a-499b-82e2-391d445bf3c7",
     "showTitle": false,
     "tableResultSettingsMap": {},
     "title": ""
    }
   },
   "outputs": [],
   "source": [
    "\n",
    "from pyspark.sql.functions import col, avg, sum, count, round\n",
    "\n",
    "\n",
    "# Aggregate buyersDf at country level\n",
    "buyersAgg = buyersDf.groupBy(\"country\").agg(\n",
    "    count(\"buyers\").alias(\"total_buyers\"),\n",
    "    sum(\"totalproductsbought\").alias(\"total_products_bought\"),\n",
    "    round(avg(\"meanproductsbought\"), 2).alias(\"mean_products_bought\"),\n",
    "    round(avg(\"meanfollowers\"), 2).alias(\"buyer_mean_followers\"),\n",
    "    round(avg(\"femaleBuyerRatio\"), 2).alias(\"avg_female_buyer_ratio\"),\n",
    "    round(avg(\"maleBuyerRatio\"), 2).alias(\"avg_male_buyer_ratio\"),\n",
    "    round(avg(\"wishlistConversionRate\"), 2).alias(\"avg_wishlist_conversion_rate\")\n",
    ")\n",
    "\n",
    "# Aggregate countriesDf at country level\n",
    "countriesAgg = countriesDf.groupBy(\"country\").agg(\n",
    "    count(\"sellers\").alias(\"total_sellers\"),\n",
    "    round(sum(\"totalproductssold\"), 2).alias(\"total_products_sold\"),\n",
    "    round(avg(\"meanproductssold\"), 2).alias(\"mean_products_sold\"),\n",
    "    round(avg(\"meanproductslisted\"), 2).alias(\"mean_products_listed\"),\n",
    "    round(avg(\"femaleSellerRatio\"), 2).alias(\"avg_female_seller_ratio\"),\n",
    "    round(avg(\"maleSellerRatio\"), 2).alias(\"avg_male_seller_ratio\")\n",
    ")\n",
    "\n",
    "# Aggregate sellersDf at country level\n",
    "sellersAgg = sellersDf.groupBy(\"country\").agg(\n",
    "    count(\"nbsellers\").alias(\"total_sellers_count\"),\n",
    "    round(avg(\"meanproductssold\"), 2).alias(\"seller_mean_products_sold\"),   # Fixed reference\n",
    "    sum(\"totalproductssold\").alias(\"seller_total_products_sold\"),\n",
    "    round(avg(\"meanfollowers\"), 2).alias(\"seller_mean_followers\"),\n",
    "    round(avg(\"percentofappusers\"), 2).alias(\"avg_percent_app_users\"),\n",
    "    round(avg(\"percentofiosusers\"), 2).alias(\"avg_percent_ios_users\"),\n",
    "    round(avg(\"meanseniority\"), 2).alias(\"avg_mean_seniority\"),\n",
    "    count(\"isTopPerformer\").alias(\"total_top_performers\")\n",
    ")\n",
    "\n",
    "# Aggregate userDf at country level\n",
    "usersAgg = userDf.groupBy(\"country\").agg(\n",
    "    count(\"identifierHash\").alias(\"total_users\"),\n",
    "    round(avg(\"socialNbFollowers\"), 2).alias(\"avg_social_followers\"),\n",
    "    sum(\"productsListed\").alias(\"total_products_listed\"),\n",
    "    sum(\"productsSold\").alias(\"total_products_sold_by_users\"),\n",
    "    round(avg(\"productsPassRate\"), 2).alias(\"avg_products_pass_rate\"),\n",
    "    round(avg(\"socialEngagementScore\"), 2).alias(\"avg_social_engagement_score\")\n",
    ")\n",
    "\n",
    "# Combine all aggregated DataFrames into one table using 'country' as the key\n",
    "finalTable = buyersAgg \\\n",
    "    .join(countriesAgg, on=\"country\", how=\"outer\") \\\n",
    "    .join(sellersAgg, on=\"country\", how=\"outer\") \\\n",
    "    .join(usersAgg, on=\"country\", how=\"outer\")\n",
    "\n",
    "\n",
    "\n"
   ]
  },
  {
   "cell_type": "markdown",
   "metadata": {
    "application/vnd.databricks.v1+cell": {
     "cellMetadata": {},
     "inputWidgets": {},
     "nuid": "ed498ef5-337c-4458-aa87-be4bd214dd7b",
     "showTitle": false,
     "tableResultSettingsMap": {},
     "title": ""
    }
   },
   "source": [
    "### Saving the data to Azure Data **Lake**"
   ]
  },
  {
   "cell_type": "code",
   "execution_count": 0,
   "metadata": {
    "application/vnd.databricks.v1+cell": {
     "cellMetadata": {
      "byteLimit": 2048000,
      "rowLimit": 10000
     },
     "inputWidgets": {},
     "nuid": "5c2acf5b-da0b-4736-b135-d6d56bb9947b",
     "showTitle": false,
     "tableResultSettingsMap": {},
     "title": ""
    }
   },
   "outputs": [],
   "source": [
    "# Save the final unified table to gold layer\n",
    "finalTable.write.format(\"delta\") \\\n",
    "    .mode(\"overwrite\") \\\n",
    "    .save(\"/mnt/landing-zone-2/tables/gold/ecom_obt_final\")\n"
   ]
  }
 ],
 "metadata": {
  "application/vnd.databricks.v1+notebook": {
   "computePreferences": null,
   "dashboards": [],
   "environmentMetadata": {
    "base_environment": "",
    "client": "1"
   },
   "language": "python",
   "notebookMetadata": {
    "mostRecentlyExecutedCommandWithImplicitDF": {
     "commandId": -1,
     "dataframes": [
      "_sqldf"
     ]
    },
    "pythonIndentUnit": 4
   },
   "notebookName": "Gold_Layer",
   "widgets": {}
  },
  "language_info": {
   "name": "python"
  }
 },
 "nbformat": 4,
 "nbformat_minor": 0
}