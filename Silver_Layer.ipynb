{
 "cells": [
  {
   "cell_type": "code",
   "execution_count": 0,
   "metadata": {
    "application/vnd.databricks.v1+cell": {
     "cellMetadata": {
      "byteLimit": 2048000,
      "rowLimit": 10000
     },
     "inputWidgets": {},
     "nuid": "c9683b81-5b2c-4eba-8144-35f28ecf7d8f",
     "showTitle": false,
     "tableResultSettingsMap": {},
     "title": ""
    }
   },
   "outputs": [],
   "source": [
    "from pyspark.sql import SparkSession\n",
    "from pyspark.sql.functions import *\n",
    "from pyspark.sql.types import *"
   ]
  },
  {
   "cell_type": "code",
   "execution_count": 0,
   "metadata": {
    "application/vnd.databricks.v1+cell": {
     "cellMetadata": {
      "byteLimit": 2048000,
      "rowLimit": 10000
     },
     "inputWidgets": {},
     "nuid": "f7f37dfb-3ae4-4941-aa17-6e711a39e345",
     "showTitle": false,
     "tableResultSettingsMap": {},
     "title": ""
    }
   },
   "outputs": [],
   "source": [
    "spark = SparkSession.builder.appName(\"Ecom-DataPipeline\").getOrCreate()  "
   ]
  },
  {
   "cell_type": "markdown",
   "metadata": {
    "application/vnd.databricks.v1+cell": {
     "cellMetadata": {},
     "inputWidgets": {},
     "nuid": "5ac58598-752c-4c7c-b19a-16fc773f3a63",
     "showTitle": false,
     "tableResultSettingsMap": {},
     "title": ""
    }
   },
   "source": [
    "### Accessing the data from bronze Layer"
   ]
  },
  {
   "cell_type": "code",
   "execution_count": 0,
   "metadata": {
    "application/vnd.databricks.v1+cell": {
     "cellMetadata": {
      "byteLimit": 2048000,
      "rowLimit": 10000
     },
     "inputWidgets": {},
     "nuid": "3b6a98a1-4ed0-455a-8595-a9a36fbd0aeb",
     "showTitle": false,
     "tableResultSettingsMap": {},
     "title": ""
    }
   },
   "outputs": [],
   "source": [
    "userDf=spark.read.format(\"delta\")\\\n",
    "    .load(\"/mnt/delta/tables/bronze/users\")"
   ]
  },
  {
   "cell_type": "markdown",
   "metadata": {
    "application/vnd.databricks.v1+cell": {
     "cellMetadata": {},
     "inputWidgets": {},
     "nuid": "7dc3742c-3d3a-4592-82ed-9cf5160658b6",
     "showTitle": false,
     "tableResultSettingsMap": {},
     "title": ""
    }
   },
   "source": [
    "### Transformations on Users Data"
   ]
  },
  {
   "cell_type": "code",
   "execution_count": 0,
   "metadata": {
    "application/vnd.databricks.v1+cell": {
     "cellMetadata": {
      "byteLimit": 2048000,
      "rowLimit": 10000
     },
     "inputWidgets": {},
     "nuid": "44ebdeb1-f5b1-4491-8118-dc081a8b8682",
     "showTitle": false,
     "tableResultSettingsMap": {},
     "title": ""
    }
   },
   "outputs": [],
   "source": [
    "#changing the countryCode to uppercase\n",
    "userDf=userDf.withColumn(\"countryCode\", upper(col(\"countryCode\")))\n",
    "\n",
    "#changing the language to English, French or Non-English\n",
    "userDf=userDf.withColumn(\"language\", expr(\"CASE WHEN language='en' THEN 'English'\" +\n",
    "                                          \"WHEN language='fr' THEN 'French'\" +\n",
    "                                          \"ELSE 'Non-English' END\"))\n",
    "\n",
    "#changing the gender from M,F to Female, Male or Other\n",
    "userDf=userDf.withColumn(\"gender\",expr(\"CASE WHEN gender='F' THEN 'Female'\" +\n",
    "                                       \"WHEN gender='M' THEN 'Male'\" +\n",
    "                                       \"ELSE 'Other' END\"))\n",
    "\n",
    "#changing the civilityTitle to uppercase\n",
    "userDf=userDf.withColumn(\"civilityTitle\",upper(col(\"civilityTitle\")))\n",
    "\n",
    "#changing the daysSinceLastLogin to monthsSinceLastLogin\n",
    "userDf=userDf.withColumn(\"monthsSinceLastLogin\",col(\"daysSinceLastLogin\")/12)\n",
    "\n",
    "#Add flags (0/1) to indicate specific conditions for further analysis:\n",
    "# Creating a flag for whether the user has any app installed\n",
    "userDf = userDf.withColumn(\"hasAnyAppFlag\", when(col(\"hasAnyApp\") == \"TRUE\", 1).otherwise(0))\n",
    "\n",
    "# Creating a flag for active users (based on daysSinceLastLogin <= 30)\n",
    "userDf = userDf.withColumn(\"isActiveUser\", when(col(\"daysSinceLastLogin\") <= 30, 1).otherwise(0))\n",
    "\n",
    "\n",
    "#Create bins for user seniority to categorize users into levels:\n",
    "userDf = userDf.withColumn(\"seniorityCategory\", expr(\n",
    "    \"CASE WHEN seniorityAsYears < 1 THEN 'New User' \" +\n",
    "    \"WHEN seniorityAsYears BETWEEN 1 AND 3 THEN 'Intermediate' \" +\n",
    "    \"WHEN seniorityAsYears BETWEEN 4 AND 6 THEN 'Experienced' \" +\n",
    "    \"ELSE 'Veteran' END\"))\n",
    "\n",
    "\n",
    "#Create a new column to combine social interactions into a single score:\n",
    "userDf = userDf.withColumn(\"socialEngagementScore\", \n",
    "    col(\"socialNbFollowers\") + col(\"socialNbFollows\") + col(\"socialProductsLiked\"))\n",
    "\n",
    "\n",
    "#Convert columns like hasAndroidApp, hasIosApp, and hasProfilePicture to 0/1 for better analysis\n",
    "userDf = userDf.withColumn(\"hasAndroidApp\", when(col(\"hasAndroidApp\") == \"TRUE\", 1).otherwise(0))\n",
    "userDf = userDf.withColumn(\"hasIosApp\", when(col(\"hasIosApp\") == \"TRUE\", 1).otherwise(0))\n",
    "userDf = userDf.withColumn(\"hasProfilePicture\", when(col(\"hasProfilePicture\") == \"TRUE\", 1).otherwise(0))\n"
   ]
  },
  {
   "cell_type": "code",
   "execution_count": 0,
   "metadata": {
    "application/vnd.databricks.v1+cell": {
     "cellMetadata": {
      "byteLimit": 2048000,
      "rowLimit": 10000
     },
     "inputWidgets": {},
     "nuid": "ee8ba639-6e2e-4568-8d9f-bc9a4e0acc1f",
     "showTitle": false,
     "tableResultSettingsMap": {},
     "title": ""
    }
   },
   "outputs": [
    {
     "output_type": "stream",
     "name": "stdout",
     "output_type": "stream",
     "text": [
      "root\n |-- identifierHash: string (nullable = true)\n |-- type: string (nullable = true)\n |-- country: string (nullable = true)\n |-- language: string (nullable = false)\n |-- socialNbFollowers: string (nullable = true)\n |-- socialNbFollows: string (nullable = true)\n |-- socialProductsLiked: string (nullable = true)\n |-- productsListed: string (nullable = true)\n |-- productsSold: string (nullable = true)\n |-- productsPassRate: string (nullable = true)\n |-- productsWished: string (nullable = true)\n |-- productsBought: string (nullable = true)\n |-- gender: string (nullable = false)\n |-- civilityGenderId: string (nullable = true)\n |-- civilityTitle: string (nullable = true)\n |-- hasAnyApp: string (nullable = true)\n |-- hasAndroidApp: integer (nullable = false)\n |-- hasIosApp: integer (nullable = false)\n |-- hasProfilePicture: integer (nullable = false)\n |-- daysSinceLastLogin: string (nullable = true)\n |-- seniority: string (nullable = true)\n |-- seniorityAsMonths: string (nullable = true)\n |-- seniorityAsYears: string (nullable = true)\n |-- countryCode: string (nullable = true)\n |-- monthsSinceLastLogin: double (nullable = true)\n |-- hasAnyAppFlag: integer (nullable = false)\n |-- isActiveUser: integer (nullable = false)\n |-- seniorityCategory: string (nullable = false)\n |-- socialEngagementScore: double (nullable = true)\n\n"
     ]
    }
   ],
   "source": [
    "userDf.printSchema()"
   ]
  },
  {
   "cell_type": "code",
   "execution_count": 0,
   "metadata": {
    "application/vnd.databricks.v1+cell": {
     "cellMetadata": {
      "byteLimit": 2048000,
      "rowLimit": 10000
     },
     "inputWidgets": {},
     "nuid": "8c4a7481-b3f1-41ed-8836-d028983caa56",
     "showTitle": false,
     "tableResultSettingsMap": {},
     "title": ""
    }
   },
   "outputs": [
    {
     "output_type": "stream",
     "name": "stdout",
     "output_type": "stream",
     "text": [
      "root\n |-- identifierHash: long (nullable = true)\n |-- type: string (nullable = true)\n |-- country: string (nullable = true)\n |-- language: string (nullable = false)\n |-- socialNbFollowers: integer (nullable = true)\n |-- socialNbFollows: integer (nullable = true)\n |-- socialProductsLiked: integer (nullable = true)\n |-- productsListed: integer (nullable = true)\n |-- productsSold: integer (nullable = true)\n |-- productsPassRate: double (nullable = true)\n |-- productsWished: integer (nullable = true)\n |-- productsBought: integer (nullable = true)\n |-- gender: string (nullable = false)\n |-- civilityGenderId: integer (nullable = true)\n |-- civilityTitle: string (nullable = true)\n |-- hasAnyApp: boolean (nullable = true)\n |-- hasAndroidApp: integer (nullable = false)\n |-- hasIosApp: integer (nullable = false)\n |-- hasProfilePicture: integer (nullable = false)\n |-- daysSinceLastLogin: integer (nullable = true)\n |-- seniority: integer (nullable = true)\n |-- seniorityAsMonths: double (nullable = true)\n |-- seniorityAsYears: double (nullable = true)\n |-- countryCode: string (nullable = true)\n |-- monthsSinceLastLogin: double (nullable = true)\n |-- hasAnyAppFlag: integer (nullable = false)\n |-- isActiveUser: integer (nullable = false)\n |-- seniorityCategory: string (nullable = false)\n |-- socialEngagementScore: double (nullable = true)\n\n"
     ]
    }
   ],
   "source": [
    "# chnaging data types for better analytics\n",
    "\n",
    "\n",
    "# Convert datatypes\n",
    "userDf = userDf.withColumn(\"identifierHash\", col(\"identifierHash\").cast(\"long\")) \\\n",
    "               .withColumn(\"socialNbFollowers\", col(\"socialNbFollowers\").cast(\"int\")) \\\n",
    "               .withColumn(\"socialNbFollows\", col(\"socialNbFollows\").cast(\"int\")) \\\n",
    "               .withColumn(\"socialProductsLiked\", col(\"socialProductsLiked\").cast(\"int\")) \\\n",
    "               .withColumn(\"productsListed\", col(\"productsListed\").cast(\"int\")) \\\n",
    "               .withColumn(\"productsSold\", col(\"productsSold\").cast(\"int\")) \\\n",
    "               .withColumn(\"productsPassRate\", col(\"productsPassRate\").cast(\"double\")) \\\n",
    "               .withColumn(\"productsWished\", col(\"productsWished\").cast(\"int\")) \\\n",
    "               .withColumn(\"productsBought\", col(\"productsBought\").cast(\"int\")) \\\n",
    "               .withColumn(\"daysSinceLastLogin\", col(\"daysSinceLastLogin\").cast(\"int\")) \\\n",
    "               .withColumn(\"seniority\", col(\"seniority\").cast(\"int\")) \\\n",
    "               .withColumn(\"seniorityAsMonths\", col(\"seniorityAsMonths\").cast(\"double\")) \\\n",
    "               .withColumn(\"seniorityAsYears\", col(\"seniorityAsYears\").cast(\"double\")) \\\n",
    "               .withColumn(\"hasAnyApp\", col(\"hasAnyApp\").cast(\"boolean\")) \\\n",
    "               .withColumn(\"civilityGenderId\", col(\"civilityGenderId\").cast(\"int\"))\n",
    "               \n",
    "# Verify updated schema\n",
    "userDf.printSchema()\n"
   ]
  },
  {
   "cell_type": "markdown",
   "metadata": {
    "application/vnd.databricks.v1+cell": {
     "cellMetadata": {},
     "inputWidgets": {},
     "nuid": "9edd142a-bd86-4dbd-805f-c899cbe5bcf1",
     "showTitle": false,
     "tableResultSettingsMap": {},
     "title": ""
    }
   },
   "source": [
    "### Transformation on Countries data"
   ]
  },
  {
   "cell_type": "code",
   "execution_count": 0,
   "metadata": {
    "application/vnd.databricks.v1+cell": {
     "cellMetadata": {
      "byteLimit": 2048000,
      "rowLimit": 10000
     },
     "inputWidgets": {},
     "nuid": "d2120246-a395-4e56-b164-c674f8bbd8c0",
     "showTitle": false,
     "tableResultSettingsMap": {},
     "title": ""
    }
   },
   "outputs": [],
   "source": [
    "countriesDf=spark.read.format(\"delta\")\\\n",
    "    .load(\"/mnt/delta/tables/bronze/countries\")"
   ]
  },
  {
   "cell_type": "code",
   "execution_count": 0,
   "metadata": {
    "application/vnd.databricks.v1+cell": {
     "cellMetadata": {
      "byteLimit": 2048000,
      "rowLimit": 10000
     },
     "inputWidgets": {},
     "nuid": "45497a46-3106-47da-929b-417dcea23916",
     "showTitle": false,
     "tableResultSettingsMap": {},
     "title": ""
    }
   },
   "outputs": [
    {
     "output_type": "stream",
     "name": "stdout",
     "output_type": "stream",
     "text": [
      "root\n |-- country: string (nullable = true)\n |-- sellers: string (nullable = true)\n |-- topsellers: string (nullable = true)\n |-- topsellerratio: string (nullable = true)\n |-- femalesellersratio: string (nullable = true)\n |-- topfemalesellersratio: string (nullable = true)\n |-- femalesellers: string (nullable = true)\n |-- malesellers: string (nullable = true)\n |-- topfemalesellers: string (nullable = true)\n |-- topmalesellers: string (nullable = true)\n |-- countrysoldratio: string (nullable = true)\n |-- bestsoldratio: string (nullable = true)\n |-- toptotalproductssold: string (nullable = true)\n |-- totalproductssold: string (nullable = true)\n |-- toptotalproductslisted: string (nullable = true)\n |-- totalproductslisted: string (nullable = true)\n |-- topmeanproductssold: string (nullable = true)\n |-- topmeanproductslisted: string (nullable = true)\n |-- meanproductssold: string (nullable = true)\n |-- meanproductslisted: string (nullable = true)\n |-- meanofflinedays: string (nullable = true)\n |-- topmeanofflinedays: string (nullable = true)\n |-- meanfollowers: string (nullable = true)\n |-- meanfollowing: string (nullable = true)\n |-- topmeanfollowers: string (nullable = true)\n |-- topmeanfollowing: string (nullable = true)\n\n"
     ]
    }
   ],
   "source": [
    "countriesDf.printSchema()"
   ]
  },
  {
   "cell_type": "code",
   "execution_count": 0,
   "metadata": {
    "application/vnd.databricks.v1+cell": {
     "cellMetadata": {
      "byteLimit": 2048000,
      "rowLimit": 10000
     },
     "inputWidgets": {},
     "nuid": "de91419d-0ae0-41f6-bdd7-f6546a5dee0d",
     "showTitle": false,
     "tableResultSettingsMap": {},
     "title": ""
    }
   },
   "outputs": [
    {
     "output_type": "stream",
     "name": "stdout",
     "output_type": "stream",
     "text": [
      "root\n |-- country: string (nullable = true)\n |-- sellers: integer (nullable = true)\n |-- topsellers: integer (nullable = true)\n |-- topsellerratio: double (nullable = true)\n |-- femalesellersratio: double (nullable = true)\n |-- topfemalesellersratio: double (nullable = true)\n |-- femalesellers: integer (nullable = true)\n |-- malesellers: integer (nullable = true)\n |-- topfemalesellers: integer (nullable = true)\n |-- topmalesellers: integer (nullable = true)\n |-- countrysoldratio: double (nullable = true)\n |-- bestsoldratio: double (nullable = true)\n |-- toptotalproductssold: double (nullable = true)\n |-- totalproductssold: double (nullable = true)\n |-- toptotalproductslisted: double (nullable = true)\n |-- totalproductslisted: double (nullable = true)\n |-- topmeanproductssold: double (nullable = true)\n |-- topmeanproductslisted: double (nullable = true)\n |-- meanproductssold: double (nullable = true)\n |-- meanproductslisted: double (nullable = true)\n |-- meanofflinedays: double (nullable = true)\n |-- topmeanofflinedays: double (nullable = true)\n |-- meanfollowers: double (nullable = true)\n |-- meanfollowing: double (nullable = true)\n |-- topmeanfollowers: double (nullable = true)\n |-- topmeanfollowing: double (nullable = true)\n\n"
     ]
    }
   ],
   "source": [
    "#changing data types\n",
    "\n",
    "# Cast columns to Integer\n",
    "int_columns = [\n",
    "    \"sellers\", \"topsellers\", \"femalesellers\", \"malesellers\", \n",
    "    \"topfemalesellers\", \"topmalesellers\"\n",
    "]\n",
    "\n",
    "# Cast columns to Double\n",
    "double_columns = [\n",
    "    \"topsellerratio\", \"femalesellersratio\", \"topfemalesellersratio\", \n",
    "    \"countrysoldratio\", \"bestsoldratio\", \"toptotalproductssold\", \n",
    "    \"totalproductssold\", \"toptotalproductslisted\", \"totalproductslisted\",\n",
    "    \"topmeanproductssold\", \"topmeanproductslisted\", \"meanproductssold\", \n",
    "    \"meanproductslisted\", \"meanofflinedays\", \"topmeanofflinedays\", \n",
    "    \"meanfollowers\", \"meanfollowing\", \"topmeanfollowers\", \"topmeanfollowing\"\n",
    "]\n",
    "\n",
    "\n",
    "for col_name in int_columns:\n",
    "    countriesDf = countriesDf.withColumn(col_name, col(col_name).cast(\"int\"))\n",
    "\n",
    "for col_name in double_columns:\n",
    "    countriesDf = countriesDf.withColumn(col_name, col(col_name).cast(\"double\"))\n",
    "\n",
    "\n",
    "countriesDf.printSchema()\n"
   ]
  },
  {
   "cell_type": "code",
   "execution_count": 0,
   "metadata": {
    "application/vnd.databricks.v1+cell": {
     "cellMetadata": {
      "byteLimit": 2048000,
      "rowLimit": 10000
     },
     "inputWidgets": {},
     "nuid": "f8a71424-4cdd-4d68-8022-261ac6a84bb8",
     "showTitle": false,
     "tableResultSettingsMap": {},
     "title": ""
    }
   },
   "outputs": [
    {
     "output_type": "stream",
     "name": "stdout",
     "output_type": "stream",
     "text": [
      "+-----------+-------+----------+--------------+------------------+---------------------+-------------+-----------+----------------+--------------+----------------+-------------+--------------------+-----------------+----------------------+-------------------+-------------------+---------------------+------------------+------------------+---------------+------------------+-------------+-------------+----------------+----------------+------------------+-------------------+--------------------+--------------------+\n|    country|sellers|topsellers|topsellerratio|femalesellersratio|topfemalesellersratio|femalesellers|malesellers|topfemalesellers|topmalesellers|countrysoldratio|bestsoldratio|toptotalproductssold|totalproductssold|toptotalproductslisted|totalproductslisted|topmeanproductssold|topmeanproductslisted|  meanproductssold|meanproductslisted|meanofflinedays|topmeanofflinedays|meanfollowers|meanfollowing|topmeanfollowers|topmeanfollowing| femaleSellerRatio|    maleSellerRatio|productSoldListRatio|isAboveAverageSeller|\n+-----------+-------+----------+--------------+------------------+---------------------+-------------+-----------+----------------+--------------+----------------+-------------+--------------------+-----------------+----------------------+-------------------+-------------------+---------------------+------------------+------------------+---------------+------------------+-------------+-------------+----------------+----------------+------------------+-------------------+--------------------+--------------------+\n|     Taiwan|      1|         1|         100.0|             100.0|                100.0|            1|          0|               1|             0|            1.02|         1.02|                57.0|             57.0|                  56.0|               56.0|               57.0|                 56.0|              57.0|              56.0|           11.0|              11.0|         83.0|          8.0|            83.0|             8.0|               1.0|                0.0|  1.0178571428571428|                   0|\n|  Slovaquie|      2|         1|          50.0|               0.0|                  0.0|            0|          2|               0|             1|             2.0|         1.93|                27.0|             28.0|                  14.0|               14.0|               27.0|                 14.0|              14.0|               7.0|           17.0|              15.0|         10.5|          8.5|            15.0|             8.0|               0.0|                1.0|                 2.0|                   0|\n|   Lettonie|      4|         2|          50.0|             100.0|                100.0|            4|          0|               2|             0|            2.31|         2.25|                81.0|             83.0|                  36.0|               36.0|               40.5|                 18.0|             20.75|               9.0|          120.3|              11.5|         21.0|         52.3|            38.0|            98.5|               1.0|                0.0|  2.3055555555555554|                   0|\n|   Bulgarie|      9|         4|          44.4|              66.7|                100.0|            6|          3|               4|             0|            2.07|          2.1|               145.0|            170.0|                  69.0|               82.0|              36.25|                17.25| 18.88888888888889|  9.11111111111111|           98.3|              19.0|         28.6|         31.6|            46.3|            19.0|0.6666666666666666| 0.3333333333333333|   2.073170731707317|                   0|\n|     Chypre|      4|         1|          25.0|             100.0|                100.0|            4|          0|               1|             0|            0.69|         0.62|                41.0|             56.0|                  66.0|               81.0|               41.0|                 66.0|              14.0|             20.25|           17.3|              11.0|         21.3|         10.3|            39.0|            17.0|               1.0|                0.0|   0.691358024691358|                   0|\n|     Monaco|      5|         1|          20.0|             100.0|                100.0|            5|          0|               1|             0|            7.31|         8.95|               170.0|            190.0|                  19.0|               26.0|              170.0|                 19.0|              38.0|               5.2|           51.6|              12.0|         39.6|          8.0|           167.0|             8.0|               1.0|                0.0|  7.3076923076923075|                   0|\n|   Roumanie|     13|         2|          15.4|              76.9|                 50.0|           10|          3|               1|             1|            0.88|         1.26|                49.0|             68.0|                  39.0|               77.0|               24.5|                 19.5| 5.230769230769231| 5.923076923076923|          121.6|              11.0|         10.9|         11.5|            30.0|            32.0|0.7692307692307693|0.23076923076923078|  0.8831168831168831|                   0|\n| Luxembourg|      7|         1|          14.3|              85.7|                100.0|            6|          1|               1|             0|            5.38|         NULL|                30.0|             43.0|                   0.0|                8.0|               30.0|                  0.0| 6.142857142857143|1.1428571428571428|           73.6|              11.0|         15.9|          8.4|            52.0|             3.0|0.8571428571428571|0.14285714285714285|               5.375|                   0|\n|    Espagne|    119|        13|          10.9|              81.5|                 76.9|           97|         22|              10|             3|            1.67|         2.02|               607.0|            990.0|                 301.0|              594.0|  46.69230769230769|   23.153846153846153| 8.319327731092438| 4.991596638655462|          202.4|              30.5|         16.1|         14.6|            53.2|            14.5|0.8151260504201681|0.18487394957983194|  1.6666666666666667|                   1|\n|     Italie|    347|        35|          10.1|              71.5|                 65.7|          248|         99|              23|            12|            1.27|         1.29|              1389.0|           2820.0|                1077.0|             2218.0|  39.68571428571428|   30.771428571428572| 8.126801152737752|  6.39193083573487|          141.8|              26.5|         16.1|         54.6|            63.4|           429.3|0.7146974063400576|0.28530259365994237|  1.2714156898106401|                   1|\n|    Croatie|     10|         1|          10.0|             100.0|                100.0|           10|          0|               1|             0|            1.55|         1.45|                64.0|            107.0|                  44.0|               69.0|               64.0|                 44.0|              10.7|               6.9|          141.7|              11.0|         15.1|          8.8|            50.0|             8.0|               1.0|                0.0|  1.5507246376811594|                   0|\n|  Hong Kong|     10|         1|          10.0|              70.0|                100.0|            7|          3|               1|             0|            0.91|         0.66|                23.0|             50.0|                  35.0|               55.0|               23.0|                 35.0|               5.0|               5.5|           49.6|              11.0|         14.7|         15.5|            36.0|            41.0|               0.7|                0.3|  0.9090909090909091|                   0|\n|      Suède|     32|         3|           9.4|              81.3|                 66.7|           26|          6|               2|             1|            1.45|         1.29|               202.0|            336.0|                 156.0|              231.0|  67.33333333333333|                 52.0|              10.5|           7.21875|          118.2|              12.7|         19.8|         24.0|           102.7|           172.0|            0.8125|             0.1875|  1.4545454545454546|                   0|\n|Royaume-Uni|    289|        21|           7.3|              80.3|                 85.7|          232|         57|              18|             3|            1.95|         2.16|               972.0|           1806.0|                 449.0|              927.0| 46.285714285714285|    21.38095238095238| 6.249134948096886| 3.207612456747405|          188.1|              32.4|         10.1|          8.8|            37.3|             9.1|0.8027681660899654| 0.1972318339100346|   1.948220064724919|                   1|\n|   Autriche|     18|         1|           5.6|              77.8|                100.0|           14|          4|               1|             0|            1.81|          1.0|                20.0|             67.0|                  20.0|               37.0|               20.0|                 20.0|3.7222222222222223|2.0555555555555554|          138.7|              11.0|          7.0|          8.6|            17.0|            10.0|0.7777777777777778| 0.2222222222222222|  1.8108108108108107|                   0|\n|  Allemagne|    105|         5|           4.8|              75.2|                 80.0|           79|         26|               4|             1|            2.03|         2.85|               282.0|            536.0|                  99.0|              264.0|               56.4|                 19.8| 5.104761904761904|2.5142857142857142|          168.2|              79.4|         10.7|          8.8|            53.2|            10.6|0.7523809523809524|0.24761904761904763|  2.0303030303030303|                   0|\n| Etats-Unis|    150|         6|           4.0|              78.7|                 83.3|          118|         32|               5|             1|            1.19|          1.3|               558.0|            967.0|                 428.0|              816.0|               93.0|    71.33333333333333| 6.446666666666666|              5.44|          266.1|              76.8|         14.6|         10.2|           105.0|            17.2|0.7866666666666666|0.21333333333333335|  1.1850490196078431|                   1|\n|   Pays-Bas|     54|         2|           3.7|              77.8|                 50.0|           42|         12|               1|             1|            1.54|         1.74|                47.0|            214.0|                  27.0|              139.0|               23.5|                 13.5| 3.962962962962963| 2.574074074074074|          177.4|              22.0|         11.4|          9.6|            21.5|            10.0|0.7777777777777778| 0.2222222222222222|   1.539568345323741|                   0|\n|     France|    713|        25|           3.5|              73.4|                 80.0|          523|        190|              20|             5|            1.59|          1.4|              1109.0|           3014.0|                 792.0|             1892.0|              44.36|                31.68| 4.227208976157082| 2.653576437587658|          227.1|              36.6|          8.9|         28.3|            41.3|           156.2|0.7335203366058906| 0.2664796633941094|  1.5930232558139534|                   1|\n+-----------+-------+----------+--------------+------------------+---------------------+-------------+-----------+----------------+--------------+----------------+-------------+--------------------+-----------------+----------------------+-------------------+-------------------+---------------------+------------------+------------------+---------------+------------------+-------------+-------------+----------------+----------------+------------------+-------------------+--------------------+--------------------+\n\n"
     ]
    }
   ],
   "source": [
    "from pyspark.sql.functions import col, when, avg\n",
    "\n",
    "# Ratio of Female Sellers\n",
    "countriesDf = countriesDf.withColumn(\"femaleSellerRatio\", \n",
    "                           when(col(\"sellers\") > 0, col(\"femalesellers\") / col(\"sellers\")).otherwise(0))\n",
    "\n",
    "# Ratio of Male Sellers\n",
    "countriesDf = countriesDf.withColumn(\"maleSellerRatio\", \n",
    "                           when(col(\"sellers\") > 0, col(\"malesellers\") / col(\"sellers\")).otherwise(0))\n",
    "\n",
    "# Product Sold/List Ratio\n",
    "countriesDf = countriesDf.withColumn(\"productSoldListRatio\", \n",
    "                           when(col(\"totalproductslisted\") > 0, \n",
    "                                col(\"totalproductssold\") / col(\"totalproductslisted\")).otherwise(0))\n",
    "\n",
    "# Calculate mean values for reference\n",
    "mean_products_sold = countriesDf.agg(avg(\"totalproductssold\").alias(\"meanTotalProductsSold\")).collect()[0][\"meanTotalProductsSold\"]\n",
    "\n",
    "# Add a flag for \"Above Average Seller\"\n",
    "countriesDf = countriesDf.withColumn(\"isAboveAverageSeller\", \n",
    "                           when(col(\"totalproductssold\") > mean_products_sold, 1).otherwise(0))\n",
    "\n",
    "# Show the updated DataFrame\n",
    "countriesDf.show()\n"
   ]
  },
  {
   "cell_type": "markdown",
   "metadata": {
    "application/vnd.databricks.v1+cell": {
     "cellMetadata": {},
     "inputWidgets": {},
     "nuid": "82b26f5a-3a14-4da4-b67b-967838ff8a9a",
     "showTitle": false,
     "tableResultSettingsMap": {},
     "title": ""
    }
   },
   "source": [
    "### Transformations on Buyers data"
   ]
  },
  {
   "cell_type": "code",
   "execution_count": 0,
   "metadata": {
    "application/vnd.databricks.v1+cell": {
     "cellMetadata": {
      "byteLimit": 2048000,
      "rowLimit": 10000
     },
     "inputWidgets": {},
     "nuid": "be8f4e34-0995-4424-b1a2-8e58d216aa90",
     "showTitle": false,
     "tableResultSettingsMap": {},
     "title": ""
    }
   },
   "outputs": [],
   "source": [
    "buyersDf=spark.read.format(\"delta\")\\\n",
    "    .load(\"/mnt/delta/tables/bronze/buyers\")"
   ]
  },
  {
   "cell_type": "code",
   "execution_count": 0,
   "metadata": {
    "application/vnd.databricks.v1+cell": {
     "cellMetadata": {
      "byteLimit": 2048000,
      "rowLimit": 10000
     },
     "inputWidgets": {},
     "nuid": "7169468b-72f6-41d6-9f5e-2de96031530c",
     "showTitle": false,
     "tableResultSettingsMap": {},
     "title": ""
    }
   },
   "outputs": [
    {
     "output_type": "stream",
     "name": "stdout",
     "output_type": "stream",
     "text": [
      "root\n |-- country: string (nullable = true)\n |-- buyers: string (nullable = true)\n |-- topbuyers: string (nullable = true)\n |-- topbuyerratio: string (nullable = true)\n |-- femalebuyers: string (nullable = true)\n |-- malebuyers: string (nullable = true)\n |-- topfemalebuyers: string (nullable = true)\n |-- topmalebuyers: string (nullable = true)\n |-- femalebuyersratio: string (nullable = true)\n |-- topfemalebuyersratio: string (nullable = true)\n |-- boughtperwishlistratio: string (nullable = true)\n |-- boughtperlikeratio: string (nullable = true)\n |-- topboughtperwishlistratio: string (nullable = true)\n |-- topboughtperlikeratio: string (nullable = true)\n |-- totalproductsbought: string (nullable = true)\n |-- totalproductswished: string (nullable = true)\n |-- totalproductsliked: string (nullable = true)\n |-- toptotalproductsbought: string (nullable = true)\n |-- toptotalproductswished: string (nullable = true)\n |-- toptotalproductsliked: string (nullable = true)\n |-- meanproductsbought: string (nullable = true)\n |-- meanproductswished: string (nullable = true)\n |-- meanproductsliked: string (nullable = true)\n |-- topmeanproductsbought: string (nullable = true)\n |-- topmeanproductswished: string (nullable = true)\n |-- topmeanproductsliked: string (nullable = true)\n |-- meanofflinedays: string (nullable = true)\n |-- topmeanofflinedays: string (nullable = true)\n |-- meanfollowers: string (nullable = true)\n |-- meanfollowing: string (nullable = true)\n |-- topmeanfollowers: string (nullable = true)\n |-- topmeanfollowing: string (nullable = true)\n\n"
     ]
    }
   ],
   "source": [
    "buyersDf.printSchema()"
   ]
  },
  {
   "cell_type": "code",
   "execution_count": 0,
   "metadata": {
    "application/vnd.databricks.v1+cell": {
     "cellMetadata": {
      "byteLimit": 2048000,
      "rowLimit": 10000
     },
     "inputWidgets": {},
     "nuid": "7f639193-4e64-4c14-8591-0c93ff174772",
     "showTitle": false,
     "tableResultSettingsMap": {},
     "title": ""
    }
   },
   "outputs": [],
   "source": [
    "#changing data types\n",
    "\n",
    "# Columns to cast as Integer\n",
    "int_columns = [\n",
    "    \"buyers\", \"topbuyers\", \"femalebuyers\", \"malebuyers\", \"topfemalebuyers\", \n",
    "    \"topmalebuyers\", \"totalproductsbought\", \"totalproductswished\", \n",
    "    \"totalproductsliked\", \"toptotalproductsbought\", \"toptotalproductswished\", \n",
    "    \"toptotalproductsliked\"\n",
    "]\n",
    "\n",
    "# Columns to cast as Double\n",
    "double_columns = [\n",
    "    \"topbuyerratio\", \"femalebuyersratio\", \"topfemalebuyersratio\", \n",
    "    \"boughtperwishlistratio\", \"boughtperlikeratio\", \"topboughtperwishlistratio\", \n",
    "    \"topboughtperlikeratio\", \"meanproductsbought\", \"meanproductswished\", \n",
    "    \"meanproductsliked\", \"topmeanproductsbought\", \"topmeanproductswished\", \n",
    "    \"topmeanproductsliked\", \"meanofflinedays\", \"topmeanofflinedays\", \n",
    "    \"meanfollowers\", \"meanfollowing\", \"topmeanfollowers\", \"topmeanfollowing\"\n",
    "]\n",
    "\n",
    "\n",
    "for col_name in int_columns:\n",
    "    buyersDf = buyersDf.withColumn(col_name, col(col_name).cast(\"int\"))\n",
    "\n",
    "for col_name in double_columns:\n",
    "    buyersDf = buyersDf.withColumn(col_name, col(col_name).cast(\"double\"))\n",
    "\n"
   ]
  },
  {
   "cell_type": "code",
   "execution_count": 0,
   "metadata": {
    "application/vnd.databricks.v1+cell": {
     "cellMetadata": {
      "byteLimit": 2048000,
      "rowLimit": 10000
     },
     "inputWidgets": {},
     "nuid": "868feaf6-7305-4a27-a973-6d258ffc688f",
     "showTitle": false,
     "tableResultSettingsMap": {},
     "title": ""
    }
   },
   "outputs": [],
   "source": [
    "\n",
    "# Buyer Activity Ratio: totalproductsbought / buyers\n",
    "buyersDf = buyersDf.withColumn(\"buyerActivityRatio\", \n",
    "    when(col(\"buyers\") > 0, col(\"totalproductsbought\") / col(\"buyers\")).otherwise(0))\n",
    "\n",
    "# Female Buyer Ratio: femalebuyers / \n",
    "buyersDf = buyersDf.withColumn(\"femaleBuyerRatio\", \n",
    "    when(col(\"buyers\") > 0, col(\"femalebuyers\") / col(\"buyers\")).otherwise(0)) \\\n",
    "    .withColumn(\"maleBuyerRatio\", \n",
    "    when(col(\"buyers\") > 0, col(\"malebuyers\") / col(\"buyers\")).otherwise(0))\n",
    "\n",
    "# Top Buyer Ratio: topbuyers / \n",
    "buyersDf = buyersDf.withColumn(\"wishlistConversionRate\", \n",
    "    when(col(\"totalproductswished\") > 0, col(\"totalproductsbought\") / col(\"totalproductswished\")).otherwise(0))\n",
    "\n",
    "# Top Female Buyer Ratio: topfemalebuyers /\n",
    "buyersDf = buyersDf.withColumn(\"isHighEngagementCountry\", \n",
    "    when((col(\"meanproductsbought\") > 5) & (col(\"meanproductsliked\") > 20), 1).otherwise(0))\n"
   ]
  },
  {
   "cell_type": "markdown",
   "metadata": {
    "application/vnd.databricks.v1+cell": {
     "cellMetadata": {},
     "inputWidgets": {},
     "nuid": "7a35cf24-ce5b-4a74-98b2-3ee1030fbcb8",
     "showTitle": false,
     "tableResultSettingsMap": {},
     "title": ""
    }
   },
   "source": [
    "### Transformations on Seller data"
   ]
  },
  {
   "cell_type": "code",
   "execution_count": 0,
   "metadata": {
    "application/vnd.databricks.v1+cell": {
     "cellMetadata": {
      "byteLimit": 2048000,
      "rowLimit": 10000
     },
     "inputWidgets": {},
     "nuid": "7d6b2af1-01d6-40ab-b933-6e90dff7f7a8",
     "showTitle": false,
     "tableResultSettingsMap": {},
     "title": ""
    }
   },
   "outputs": [],
   "source": [
    "sellersDf=spark.read.format(\"delta\")\\\n",
    "    .load(\"/mnt/delta/tables/bronze/sellers\")"
   ]
  },
  {
   "cell_type": "code",
   "execution_count": 0,
   "metadata": {
    "application/vnd.databricks.v1+cell": {
     "cellMetadata": {
      "byteLimit": 2048000,
      "rowLimit": 10000
     },
     "inputWidgets": {},
     "nuid": "1a97f1cc-53da-4b58-b1ec-a60a53f8062a",
     "showTitle": false,
     "tableResultSettingsMap": {},
     "title": ""
    }
   },
   "outputs": [
    {
     "output_type": "stream",
     "name": "stdout",
     "output_type": "stream",
     "text": [
      "root\n |-- country: string (nullable = true)\n |-- sex: string (nullable = true)\n |-- nbsellers: string (nullable = true)\n |-- meanproductssold: string (nullable = true)\n |-- meanproductslisted: string (nullable = true)\n |-- meansellerpassrate: string (nullable = true)\n |-- totalproductssold: string (nullable = true)\n |-- totalproductslisted: string (nullable = true)\n |-- meanproductsbought: string (nullable = true)\n |-- meanproductswished: string (nullable = true)\n |-- meanproductsliked: string (nullable = true)\n |-- totalbought: string (nullable = true)\n |-- totalwished: string (nullable = true)\n |-- totalproductsliked: string (nullable = true)\n |-- meanfollowers: string (nullable = true)\n |-- meanfollows: string (nullable = true)\n |-- percentofappusers: string (nullable = true)\n |-- percentofiosusers: string (nullable = true)\n |-- meanseniority: string (nullable = true)\n\n"
     ]
    }
   ],
   "source": [
    "sellersDf.printSchema()"
   ]
  },
  {
   "cell_type": "code",
   "execution_count": 0,
   "metadata": {
    "application/vnd.databricks.v1+cell": {
     "cellMetadata": {
      "byteLimit": 2048000,
      "rowLimit": 10000
     },
     "inputWidgets": {},
     "nuid": "241f5bfc-1160-4b67-9248-aaa60e78f166",
     "showTitle": false,
     "tableResultSettingsMap": {},
     "title": ""
    }
   },
   "outputs": [],
   "source": [
    "#changing data types\n",
    "\n",
    "# Columns to cast as Integer\n",
    "int_columns = [\n",
    "    \"nbsellers\", \"totalproductssold\", \"totalproductslisted\", \n",
    "    \"totalbought\", \"totalwished\", \"totalproductsliked\"\n",
    "]\n",
    "\n",
    "# Columns to cast as Double\n",
    "double_columns = [\n",
    "    \"meanproductssold\", \"meanproductslisted\", \"meansellerpassrate\", \n",
    "    \"meanproductsbought\", \"meanproductswished\", \"meanproductsliked\", \n",
    "    \"meanfollowers\", \"meanfollows\", \"percentofappusers\", \n",
    "    \"percentofiosusers\", \"meanseniority\"\n",
    "]\n",
    "\n",
    "\n",
    "for col_name in int_columns:\n",
    "    sellersDf = sellersDf.withColumn(col_name, col(col_name).cast(\"int\"))\n",
    "\n",
    "\n",
    "for col_name in double_columns:\n",
    "    sellersDf = sellersDf.withColumn(col_name, col(col_name).cast(\"double\"))\n",
    "\n",
    "\n"
   ]
  },
  {
   "cell_type": "code",
   "execution_count": 0,
   "metadata": {
    "application/vnd.databricks.v1+cell": {
     "cellMetadata": {
      "byteLimit": 2048000,
      "rowLimit": 10000
     },
     "inputWidgets": {},
     "nuid": "dce3b402-5b88-456c-a6f3-a1e6a24cf7c9",
     "showTitle": false,
     "tableResultSettingsMap": {},
     "title": ""
    }
   },
   "outputs": [],
   "source": [
    "\n",
    "\n",
    "\n",
    "# Add a flag for top-performing sellers\n",
    "threshold = 3.0\n",
    "sellersDf = sellersDf.withColumn(\"isTopPerformer\", \n",
    "                   when(col(\"meanproductssold\") > threshold, 1).otherwise(0))\n",
    "\n",
    "\n",
    "# Add a flag for high-usage \n",
    "sellersDf = sellersDf.withColumn(\"appUsageCategory\", \n",
    "                                 when((col(\"percentofappusers\") > 70) & (col(\"percentofiosusers\") > 50), \"High Usage\")\n",
    "                                 .when((col(\"percentofappusers\") > 50), \"Moderate Usage\")\n",
    "                                 .otherwise(\"Low Usage\"))\n",
    "\n"
   ]
  },
  {
   "cell_type": "markdown",
   "metadata": {
    "application/vnd.databricks.v1+cell": {
     "cellMetadata": {},
     "inputWidgets": {},
     "nuid": "25310b0d-62ec-4a43-82fa-94d183547fff",
     "showTitle": false,
     "tableResultSettingsMap": {},
     "title": ""
    }
   },
   "source": [
    "### Saving the data frames to delta lake"
   ]
  },
  {
   "cell_type": "code",
   "execution_count": 0,
   "metadata": {
    "application/vnd.databricks.v1+cell": {
     "cellMetadata": {},
     "inputWidgets": {},
     "nuid": "546f0b33-78b5-4647-8f9c-56a11a879011",
     "showTitle": false,
     "tableResultSettingsMap": {},
     "title": ""
    }
   },
   "outputs": [],
   "source": [
    "userDf.write.format(\"delta\")\\\n",
    "    .mode(\"overwrite\")\\\n",
    "    .save(\"/mnt/delta/tables/silver/user\")\n",
    "\n",
    "buyersDf.write.format(\"delta\")\\\n",
    "    .mode(\"overwrite\")\\\n",
    "    .save(\"/mnt/delta/tables/silver/buyers\")\n",
    "\n",
    "countriesDf.write.format(\"delta\")\\\n",
    "    .mode(\"overwrite\")\\\n",
    "    .save(\"/mnt/delta/tables/silver/countries\")\n",
    "\n",
    "sellersDf.write.format(\"delta\")\\\n",
    "    .mode(\"overwrite\")\\\n",
    "    .save(\"/mnt/delta/tables/silver/seller\")"
   ]
  }
 ],
 "metadata": {
  "application/vnd.databricks.v1+notebook": {
   "computePreferences": null,
   "dashboards": [],
   "environmentMetadata": {
    "base_environment": "",
    "client": "1"
   },
   "language": "python",
   "notebookMetadata": {
    "pythonIndentUnit": 4
   },
   "notebookName": "Silver_Layer",
   "widgets": {}
  },
  "language_info": {
   "name": "python"
  }
 },
 "nbformat": 4,
 "nbformat_minor": 0
}